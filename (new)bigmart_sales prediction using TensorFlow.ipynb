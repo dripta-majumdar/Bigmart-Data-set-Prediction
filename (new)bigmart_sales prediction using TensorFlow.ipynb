{
 "cells": [
  {
   "cell_type": "code",
   "execution_count": 1,
   "id": "adaff0b5",
   "metadata": {},
   "outputs": [],
   "source": [
    "import matplotlib.pyplot as plt\n",
    "import pandas as pd\n",
    "import tensorflow as tf\n",
    "from sklearn.model_selection import train_test_split\n",
    "from sklearn.preprocessing import LabelEncoder, MinMaxScaler"
   ]
  },
  {
   "cell_type": "code",
   "execution_count": 13,
   "id": "acb623f7",
   "metadata": {},
   "outputs": [],
   "source": [
    "# Create the DataFrame\n",
    "df = pd.DataFrame({\n",
    "    'Item_Identifier': ['FDA15', 'DRC01', 'FDN15', 'FDX07', 'NCD19'],\n",
    "    'Item_Weight': [9.3, 5.92, 17.5, 19.2, 8.93],\n",
    "    'Item_Fat_Content': ['Low Fat', 'Regular', 'Low Fat', 'Regular', 'Low Fat'],\n",
    "    'Item_Visibility': [0.016, 0.019, 0.016, 0.0, 0.0],\n",
    "    'Item_Type': ['Fruit and Vegetables', 'Soft Drinks', 'Snack Foods', 'Frozen Foods', 'Household'],\n",
    "    'Item_MRP': [249.8092, 48.2692, 141.618, 182.095, 53.8614],\n",
    "    'Outlet_Identifier': ['OUT049', 'OUT018', 'OUT049', 'OUT010', 'OUT013'],\n",
    "    'Outlet_Establishment_Year': [1999, 2009, 1999, 1998, 1987],\n",
    "    'Outlet_Size': ['Medium', 'Medium', 'Medium', 'Small', 'High'],\n",
    "    'Outlet_Location_Type': ['Tier 1', 'Tier 3', 'Tier 1', 'Tier 3', 'Tier 3'],\n",
    "    'Outlet_Type': ['Supermarket Type1', 'Supermarket Type2', 'Supermarket Type1', 'Grocery Store', 'Supermarket Type1'],\n",
    "    'Item_Outlet_Sales': [3735.138, 443.4228, 2097.27, 732.38, 994.7052]\n",
    "})"
   ]
  },
  {
   "cell_type": "code",
   "execution_count": 14,
   "id": "336bdce3",
   "metadata": {},
   "outputs": [],
   "source": [
    "# Save the DataFrame as a CSV file\n",
    "df.to_csv('bigmart_sales.csv', index=False)"
   ]
  },
  {
   "cell_type": "code",
   "execution_count": 15,
   "id": "a228072f",
   "metadata": {},
   "outputs": [
    {
     "data": {
      "text/html": [
       "<div>\n",
       "<style scoped>\n",
       "    .dataframe tbody tr th:only-of-type {\n",
       "        vertical-align: middle;\n",
       "    }\n",
       "\n",
       "    .dataframe tbody tr th {\n",
       "        vertical-align: top;\n",
       "    }\n",
       "\n",
       "    .dataframe thead th {\n",
       "        text-align: right;\n",
       "    }\n",
       "</style>\n",
       "<table border=\"1\" class=\"dataframe\">\n",
       "  <thead>\n",
       "    <tr style=\"text-align: right;\">\n",
       "      <th></th>\n",
       "      <th>Item_Identifier</th>\n",
       "      <th>Item_Weight</th>\n",
       "      <th>Item_Fat_Content</th>\n",
       "      <th>Item_Visibility</th>\n",
       "      <th>Item_Type</th>\n",
       "      <th>Item_MRP</th>\n",
       "      <th>Outlet_Identifier</th>\n",
       "      <th>Outlet_Establishment_Year</th>\n",
       "      <th>Outlet_Size</th>\n",
       "      <th>Outlet_Location_Type</th>\n",
       "      <th>Outlet_Type</th>\n",
       "      <th>Item_Outlet_Sales</th>\n",
       "    </tr>\n",
       "  </thead>\n",
       "  <tbody>\n",
       "    <tr>\n",
       "      <th>0</th>\n",
       "      <td>FDA15</td>\n",
       "      <td>9.30</td>\n",
       "      <td>Low Fat</td>\n",
       "      <td>0.016</td>\n",
       "      <td>Fruit and Vegetables</td>\n",
       "      <td>249.8092</td>\n",
       "      <td>OUT049</td>\n",
       "      <td>1999</td>\n",
       "      <td>Medium</td>\n",
       "      <td>Tier 1</td>\n",
       "      <td>Supermarket Type1</td>\n",
       "      <td>3735.1380</td>\n",
       "    </tr>\n",
       "    <tr>\n",
       "      <th>1</th>\n",
       "      <td>DRC01</td>\n",
       "      <td>5.92</td>\n",
       "      <td>Regular</td>\n",
       "      <td>0.019</td>\n",
       "      <td>Soft Drinks</td>\n",
       "      <td>48.2692</td>\n",
       "      <td>OUT018</td>\n",
       "      <td>2009</td>\n",
       "      <td>Medium</td>\n",
       "      <td>Tier 3</td>\n",
       "      <td>Supermarket Type2</td>\n",
       "      <td>443.4228</td>\n",
       "    </tr>\n",
       "    <tr>\n",
       "      <th>2</th>\n",
       "      <td>FDN15</td>\n",
       "      <td>17.50</td>\n",
       "      <td>Low Fat</td>\n",
       "      <td>0.016</td>\n",
       "      <td>Snack Foods</td>\n",
       "      <td>141.6180</td>\n",
       "      <td>OUT049</td>\n",
       "      <td>1999</td>\n",
       "      <td>Medium</td>\n",
       "      <td>Tier 1</td>\n",
       "      <td>Supermarket Type1</td>\n",
       "      <td>2097.2700</td>\n",
       "    </tr>\n",
       "    <tr>\n",
       "      <th>3</th>\n",
       "      <td>FDX07</td>\n",
       "      <td>19.20</td>\n",
       "      <td>Regular</td>\n",
       "      <td>0.000</td>\n",
       "      <td>Frozen Foods</td>\n",
       "      <td>182.0950</td>\n",
       "      <td>OUT010</td>\n",
       "      <td>1998</td>\n",
       "      <td>Small</td>\n",
       "      <td>Tier 3</td>\n",
       "      <td>Grocery Store</td>\n",
       "      <td>732.3800</td>\n",
       "    </tr>\n",
       "    <tr>\n",
       "      <th>4</th>\n",
       "      <td>NCD19</td>\n",
       "      <td>8.93</td>\n",
       "      <td>Low Fat</td>\n",
       "      <td>0.000</td>\n",
       "      <td>Household</td>\n",
       "      <td>53.8614</td>\n",
       "      <td>OUT013</td>\n",
       "      <td>1987</td>\n",
       "      <td>High</td>\n",
       "      <td>Tier 3</td>\n",
       "      <td>Supermarket Type1</td>\n",
       "      <td>994.7052</td>\n",
       "    </tr>\n",
       "  </tbody>\n",
       "</table>\n",
       "</div>"
      ],
      "text/plain": [
       "  Item_Identifier  Item_Weight Item_Fat_Content  Item_Visibility  \\\n",
       "0           FDA15         9.30          Low Fat            0.016   \n",
       "1           DRC01         5.92          Regular            0.019   \n",
       "2           FDN15        17.50          Low Fat            0.016   \n",
       "3           FDX07        19.20          Regular            0.000   \n",
       "4           NCD19         8.93          Low Fat            0.000   \n",
       "\n",
       "              Item_Type  Item_MRP Outlet_Identifier  \\\n",
       "0  Fruit and Vegetables  249.8092            OUT049   \n",
       "1           Soft Drinks   48.2692            OUT018   \n",
       "2           Snack Foods  141.6180            OUT049   \n",
       "3          Frozen Foods  182.0950            OUT010   \n",
       "4             Household   53.8614            OUT013   \n",
       "\n",
       "   Outlet_Establishment_Year Outlet_Size Outlet_Location_Type  \\\n",
       "0                       1999      Medium               Tier 1   \n",
       "1                       2009      Medium               Tier 3   \n",
       "2                       1999      Medium               Tier 1   \n",
       "3                       1998       Small               Tier 3   \n",
       "4                       1987        High               Tier 3   \n",
       "\n",
       "         Outlet_Type  Item_Outlet_Sales  \n",
       "0  Supermarket Type1          3735.1380  \n",
       "1  Supermarket Type2           443.4228  \n",
       "2  Supermarket Type1          2097.2700  \n",
       "3      Grocery Store           732.3800  \n",
       "4  Supermarket Type1           994.7052  "
      ]
     },
     "execution_count": 15,
     "metadata": {},
     "output_type": "execute_result"
    }
   ],
   "source": [
    "import pandas as pd\n",
    "data = pd.read_csv('bigmart_sales.csv')\n",
    "df"
   ]
  },
  {
   "cell_type": "code",
   "execution_count": 16,
   "id": "bb1e2ac9",
   "metadata": {},
   "outputs": [],
   "source": [
    "# Preprocessing\n",
    "df['Item_Weight'].fillna((df['Item_Weight'].mean()), inplace=True)\n",
    "df['Outlet_Size'].fillna(('Medium'), inplace=True)"
   ]
  },
  {
   "cell_type": "code",
   "execution_count": 17,
   "id": "7aa8a1b1",
   "metadata": {},
   "outputs": [],
   "source": [
    "le = LabelEncoder()\n",
    "df['Outlet'] = le.fit_transform(df['Outlet_Identifier'])"
   ]
  },
  {
   "cell_type": "code",
   "execution_count": 18,
   "id": "b2b24d41",
   "metadata": {},
   "outputs": [],
   "source": [
    "df = pd.get_dummies(df, columns=['Item_Fat_Content', 'Outlet_Location_Type', 'Outlet_Type'])"
   ]
  },
  {
   "cell_type": "code",
   "execution_count": 19,
   "id": "3ac93f7b",
   "metadata": {},
   "outputs": [],
   "source": [
    "scaler = MinMaxScaler()\n",
    "df[['Item_Weight', 'Item_Visibility', 'Item_MRP', 'Outlet_Establishment_Year']] = scaler.fit_transform(df[['Item_Weight', 'Item_Visibility', 'Item_MRP', 'Outlet_Establishment_Year']])"
   ]
  },
  {
   "cell_type": "code",
   "execution_count": 20,
   "id": "548bb74e",
   "metadata": {},
   "outputs": [],
   "source": [
    "# Convert categorical variables to numerical values using one-hot encoding\n",
    "data = pd.get_dummies(data, columns=['Item_Identifier', 'Item_Fat_Content', 'Item_Type', 'Outlet_Identifier', 'Outlet_Size', 'Outlet_Location_Type', 'Outlet_Type'])"
   ]
  },
  {
   "cell_type": "code",
   "execution_count": 21,
   "id": "680258c2",
   "metadata": {},
   "outputs": [],
   "source": [
    "# Split the data into input and output variables\n",
    "X = data.drop(['Item_Outlet_Sales'], axis=1).values.astype('float32')\n",
    "y = data['Item_Outlet_Sales'].values.astype('float32')"
   ]
  },
  {
   "cell_type": "code",
   "execution_count": 22,
   "id": "4d4edb17",
   "metadata": {},
   "outputs": [],
   "source": [
    "# Split the data into training and testing sets\n",
    "X_train, X_test, y_train, y_test = train_test_split(X, y, test_size=0.2, random_state=42)"
   ]
  },
  {
   "cell_type": "code",
   "execution_count": 23,
   "id": "27fc8cab",
   "metadata": {},
   "outputs": [],
   "source": [
    "# Define the model architecture\n",
    "model = tf.keras.Sequential([\n",
    "    tf.keras.layers.Dense(64, activation='relu', input_shape=(X_train.shape[1],)),\n",
    "    tf.keras.layers.Dense(32, activation='relu'),\n",
    "    tf.keras.layers.Dense(1)\n",
    "])"
   ]
  },
  {
   "cell_type": "code",
   "execution_count": 24,
   "id": "0c9bbd06",
   "metadata": {},
   "outputs": [],
   "source": [
    "# Compile the model with an appropriate loss function and optimizer\n",
    "model.compile(loss='mse', optimizer='adam')"
   ]
  },
  {
   "cell_type": "code",
   "execution_count": 25,
   "id": "edc98639",
   "metadata": {},
   "outputs": [
    {
     "name": "stdout",
     "output_type": "stream",
     "text": [
      "Epoch 1/50\n",
      "1/1 [==============================] - 2s 2s/step - loss: 4716090.5000 - val_loss: 129230.0469\n",
      "Epoch 2/50\n",
      "1/1 [==============================] - 0s 112ms/step - loss: 4631204.5000 - val_loss: 112716.0312\n",
      "Epoch 3/50\n",
      "1/1 [==============================] - 0s 137ms/step - loss: 4546947.5000 - val_loss: 97344.7656\n",
      "Epoch 4/50\n",
      "1/1 [==============================] - 0s 170ms/step - loss: 4463086.0000 - val_loss: 83035.8203\n",
      "Epoch 5/50\n",
      "1/1 [==============================] - 0s 128ms/step - loss: 4380046.0000 - val_loss: 70692.3359\n",
      "Epoch 6/50\n",
      "1/1 [==============================] - 0s 112ms/step - loss: 4298507.0000 - val_loss: 59309.9297\n",
      "Epoch 7/50\n",
      "1/1 [==============================] - 0s 88ms/step - loss: 4219518.5000 - val_loss: 48863.1797\n",
      "Epoch 8/50\n",
      "1/1 [==============================] - 0s 96ms/step - loss: 4143004.5000 - val_loss: 39372.9609\n",
      "Epoch 9/50\n",
      "1/1 [==============================] - 0s 84ms/step - loss: 4068563.0000 - val_loss: 30861.1328\n",
      "Epoch 10/50\n",
      "1/1 [==============================] - 0s 81ms/step - loss: 3994689.5000 - val_loss: 23345.5234\n",
      "Epoch 11/50\n",
      "1/1 [==============================] - 0s 96ms/step - loss: 3921412.2500 - val_loss: 16843.3633\n",
      "Epoch 12/50\n",
      "1/1 [==============================] - 0s 112ms/step - loss: 3848745.2500 - val_loss: 11371.9434\n",
      "Epoch 13/50\n",
      "1/1 [==============================] - 0s 100ms/step - loss: 3776698.0000 - val_loss: 6948.9941\n",
      "Epoch 14/50\n",
      "1/1 [==============================] - 0s 96ms/step - loss: 3706125.5000 - val_loss: 3597.0745\n",
      "Epoch 15/50\n",
      "1/1 [==============================] - 0s 84ms/step - loss: 3637222.7500 - val_loss: 1336.4259\n",
      "Epoch 16/50\n",
      "1/1 [==============================] - 0s 72ms/step - loss: 3572129.0000 - val_loss: 171.4958\n",
      "Epoch 17/50\n",
      "1/1 [==============================] - 0s 81ms/step - loss: 3509045.0000 - val_loss: 107.2016\n",
      "Epoch 18/50\n",
      "1/1 [==============================] - 0s 177ms/step - loss: 3447114.2500 - val_loss: 1043.7683\n",
      "Epoch 19/50\n",
      "1/1 [==============================] - 0s 105ms/step - loss: 3385961.5000 - val_loss: 2915.8748\n",
      "Epoch 20/50\n",
      "1/1 [==============================] - 0s 96ms/step - loss: 3325110.5000 - val_loss: 5764.1865\n",
      "Epoch 21/50\n",
      "1/1 [==============================] - 0s 96ms/step - loss: 3264521.0000 - val_loss: 9619.8457\n",
      "Epoch 22/50\n",
      "1/1 [==============================] - 0s 80ms/step - loss: 3204217.2500 - val_loss: 14515.0430\n",
      "Epoch 23/50\n",
      "1/1 [==============================] - 0s 77ms/step - loss: 3144223.5000 - val_loss: 20482.8262\n",
      "Epoch 24/50\n",
      "1/1 [==============================] - 0s 72ms/step - loss: 3084567.0000 - val_loss: 27557.2559\n",
      "Epoch 25/50\n",
      "1/1 [==============================] - 0s 80ms/step - loss: 3025268.5000 - val_loss: 35773.3906\n",
      "Epoch 26/50\n",
      "1/1 [==============================] - 0s 72ms/step - loss: 2966901.5000 - val_loss: 45155.9922\n",
      "Epoch 27/50\n",
      "1/1 [==============================] - 0s 72ms/step - loss: 2907929.5000 - val_loss: 55618.4180\n",
      "Epoch 28/50\n",
      "1/1 [==============================] - 0s 85ms/step - loss: 2850021.0000 - val_loss: 67308.7969\n",
      "Epoch 29/50\n",
      "1/1 [==============================] - 0s 80ms/step - loss: 2792740.7500 - val_loss: 80266.3906\n",
      "Epoch 30/50\n",
      "1/1 [==============================] - 0s 67ms/step - loss: 2736127.2500 - val_loss: 94529.8672\n",
      "Epoch 31/50\n",
      "1/1 [==============================] - 0s 80ms/step - loss: 2680206.7500 - val_loss: 110137.2500\n",
      "Epoch 32/50\n",
      "1/1 [==============================] - 0s 72ms/step - loss: 2624826.7500 - val_loss: 127125.8906\n",
      "Epoch 33/50\n",
      "1/1 [==============================] - 0s 72ms/step - loss: 2570033.5000 - val_loss: 145532.5156\n",
      "Epoch 34/50\n",
      "1/1 [==============================] - 0s 72ms/step - loss: 2515887.7500 - val_loss: 165392.1406\n",
      "Epoch 35/50\n",
      "1/1 [==============================] - 0s 96ms/step - loss: 2462427.7500 - val_loss: 186739.1875\n",
      "Epoch 36/50\n",
      "1/1 [==============================] - 0s 72ms/step - loss: 2409701.7500 - val_loss: 209606.2031\n",
      "Epoch 37/50\n",
      "1/1 [==============================] - 0s 80ms/step - loss: 2357762.5000 - val_loss: 234023.8594\n",
      "Epoch 38/50\n",
      "1/1 [==============================] - 0s 72ms/step - loss: 2306665.0000 - val_loss: 260020.1250\n",
      "Epoch 39/50\n",
      "1/1 [==============================] - 0s 73ms/step - loss: 2256464.2500 - val_loss: 287619.5000\n",
      "Epoch 40/50\n",
      "1/1 [==============================] - 0s 80ms/step - loss: 2207216.7500 - val_loss: 316844.2812\n",
      "Epoch 41/50\n",
      "1/1 [==============================] - 0s 72ms/step - loss: 2158979.7500 - val_loss: 347711.4062\n",
      "Epoch 42/50\n",
      "1/1 [==============================] - 0s 104ms/step - loss: 2111811.0000 - val_loss: 380234.1562\n",
      "Epoch 43/50\n",
      "1/1 [==============================] - 0s 96ms/step - loss: 2065767.6250 - val_loss: 414420.2812\n",
      "Epoch 44/50\n",
      "1/1 [==============================] - 0s 193ms/step - loss: 2020907.2500 - val_loss: 450271.5625\n",
      "Epoch 45/50\n",
      "1/1 [==============================] - 0s 86ms/step - loss: 1977286.7500 - val_loss: 487784.3438\n",
      "Epoch 46/50\n",
      "1/1 [==============================] - 0s 96ms/step - loss: 1934962.1250 - val_loss: 526946.8750\n",
      "Epoch 47/50\n",
      "1/1 [==============================] - 0s 97ms/step - loss: 1893986.8750 - val_loss: 567740.6250\n",
      "Epoch 48/50\n",
      "1/1 [==============================] - 0s 96ms/step - loss: 1854413.5000 - val_loss: 610137.8750\n",
      "Epoch 49/50\n",
      "1/1 [==============================] - 0s 88ms/step - loss: 1816311.8750 - val_loss: 654099.9375\n",
      "Epoch 50/50\n",
      "1/1 [==============================] - 0s 80ms/step - loss: 1779725.7500 - val_loss: 699581.4375\n"
     ]
    }
   ],
   "source": [
    "# Train the model on the training data and evaluate it on the validation data\n",
    "history = model.fit(X_train, y_train, epochs=50, batch_size=32, validation_data=(X_test, y_test))"
   ]
  },
  {
   "cell_type": "code",
   "execution_count": 26,
   "id": "1b3fdf6c",
   "metadata": {},
   "outputs": [
    {
     "name": "stdout",
     "output_type": "stream",
     "text": [
      "1/1 [==============================] - 0s 66ms/step - loss: 699581.4375\n",
      "Test loss: 699581.4375\n"
     ]
    }
   ],
   "source": [
    "# Evaluate the model\n",
    "test_loss = model.evaluate(X_test, y_test)\n",
    "print('Test loss:', test_loss)"
   ]
  },
  {
   "cell_type": "code",
   "execution_count": 27,
   "id": "ccda1efa",
   "metadata": {},
   "outputs": [
    {
     "data": {
      "image/png": "[encoded data removed]",
      "text/plain": [
       "<Figure size 640x480 with 1 Axes>"
      ]
     },
     "metadata": {},
     "output_type": "display_data"
    }
   ],
   "source": [
    "# Plot training & validation loss values\n",
    "plt.plot(history.history['loss'])\n",
    "plt.plot(history.history['val_loss'])\n",
    "plt.title('Model loss')\n",
    "plt.ylabel('Loss')\n",
    "plt.xlabel('Epoch')\n",
    "plt.legend(['Train', 'Validation'], loc='upper left')\n",
    "plt.show()"
   ]
  },
  {
   "cell_type": "code",
   "execution_count": 28,
   "id": "c25acbe2",
   "metadata": {},
   "outputs": [
    {
     "name": "stdout",
     "output_type": "stream",
     "text": [
      "1/1 [==============================] - 0s 273ms/step\n"
     ]
    },
    {
     "data": {
      "image/png": "[encoded data removed]",
      "text/plain": [
       "<Figure size 640x480 with 1 Axes>"
      ]
     },
     "metadata": {},
     "output_type": "display_data"
    }
   ],
   "source": [
    "# Plot predicted vs true sales values\n",
    "plt.scatter(y_test, model.predict(X_test))\n",
    "plt.xlabel('True Values')\n",
    "plt.ylabel('Predictions')\n",
    "plt.show()\n",
    "#This will create a scatter plot showing the predicted sales values on the y-axis and the true sales values on the x-axis. The y_test array contains the true sales values for the test set, while model.predict(X_test) contains the predicted sales values for the test set."
   ]
  },
  {
   "cell_type": "code",
   "execution_count": 32,
   "id": "82a8ac62",
   "metadata": {},
   "outputs": [
    {
     "name": "stdout",
     "output_type": "stream",
     "text": [
      "1/1 [==============================] - 0s 146ms/step\n"
     ]
    },
    {
     "data": {
      "text/plain": [
       "array([[1477.18  ],\n",
       "       [1424.9755],\n",
       "       [1448.4102],\n",
       "       [1457.9774],\n",
       "       [1411.2911]], dtype=float32)"
      ]
     },
     "execution_count": 32,
     "metadata": {},
     "output_type": "execute_result"
    }
   ],
   "source": [
    "#to predict the sales pof the items of the bigmart\n",
    "model.predict(data.drop(['Item_Outlet_Sales'], axis=1).values.astype('float32'))"
   ]
  }
 ],
 "metadata": {
  "kernelspec": {
   "display_name": "Python 3",
   "language": "python",
   "name": "python3"
  },
  "language_info": {
   "codemirror_mode": {
    "name": "ipython",
    "version": 3
   },
   "file_extension": ".py",
   "mimetype": "text/x-python",
   "name": "python",
   "nbconvert_exporter": "python",
   "pygments_lexer": "ipython3",
   "version": "3.8.10"
  },
  "vscode": {
   "interpreter": {
    "hash": "fea989aaa876156c08a300e4d0cc50ce1bf9c85d1e4a173354466ed51b467780"
   }
  }
 },
 "nbformat": 4,
 "nbformat_minor": 5
}
