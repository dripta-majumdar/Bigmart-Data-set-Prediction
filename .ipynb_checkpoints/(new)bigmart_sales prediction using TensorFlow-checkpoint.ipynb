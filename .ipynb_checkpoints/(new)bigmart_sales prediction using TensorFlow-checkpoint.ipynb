{
 "cells": [
  {
   "cell_type": "code",
   "execution_count": 1,
   "id": "adaff0b5",
   "metadata": {},
   "outputs": [],
   "source": [
    "import pandas as pd\n",
    "import tensorflow as tf\n",
    "from sklearn.model_selection import train_test_split\n",
    "from sklearn.preprocessing import LabelEncoder, MinMaxScaler"
   ]
  },
  {
   "cell_type": "code",
   "execution_count": 2,
   "id": "acb623f7",
   "metadata": {},
   "outputs": [],
   "source": [
    "# Create the DataFrame\n",
    "df = pd.DataFrame({\n",
    "    'Item_Identifier': ['FDA15', 'DRC01', 'FDN15', 'FDX07', 'NCD19'],\n",
    "    'Item_Weight': [9.3, 5.92, 17.5, 19.2, 8.93],\n",
    "    'Item_Fat_Content': ['Low Fat', 'Regular', 'Low Fat', 'Regular', 'Low Fat'],\n",
    "    'Item_Visibility': [0.016, 0.019, 0.016, 0.0, 0.0],\n",
    "    'Item_Type': ['Fruit and Vegetables', 'Soft Drinks', 'Snack Foods', 'Frozen Foods', 'Household'],\n",
    "    'Item_MRP': [249.8092, 48.2692, 141.618, 182.095, 53.8614],\n",
    "    'Outlet_Identifier': ['OUT049', 'OUT018', 'OUT049', 'OUT010', 'OUT013'],\n",
    "    'Outlet_Establishment_Year': [1999, 2009, 1999, 1998, 1987],\n",
    "    'Outlet_Size': ['Medium', 'Medium', 'Medium', 'Small', 'High'],\n",
    "    'Outlet_Location_Type': ['Tier 1', 'Tier 3', 'Tier 1', 'Tier 3', 'Tier 3'],\n",
    "    'Outlet_Type': ['Supermarket Type1', 'Supermarket Type2', 'Supermarket Type1', 'Grocery Store', 'Supermarket Type1'],\n",
    "    'Item_Outlet_Sales': [3735.138, 443.4228, 2097.27, 732.38, 994.7052]\n",
    "})"
   ]
  },
  {
   "cell_type": "code",
   "execution_count": 3,
   "id": "336bdce3",
   "metadata": {},
   "outputs": [],
   "source": [
    "# Save the DataFrame as a CSV file\n",
    "df.to_csv('bigmart_sales.csv', index=False)"
   ]
  },
  {
   "cell_type": "code",
   "execution_count": 4,
   "id": "a228072f",
   "metadata": {},
   "outputs": [],
   "source": [
    "data = pd.read_csv('bigmart_sales.csv')"
   ]
  },
  {
   "cell_type": "code",
   "execution_count": 5,
   "id": "bb1e2ac9",
   "metadata": {},
   "outputs": [],
   "source": [
    "# Preprocessing\n",
    "df['Item_Weight'].fillna((df['Item_Weight'].mean()), inplace=True)\n",
    "df['Outlet_Size'].fillna(('Medium'), inplace=True)"
   ]
  },
  {
   "cell_type": "code",
   "execution_count": 6,
   "id": "7aa8a1b1",
   "metadata": {},
   "outputs": [],
   "source": [
    "le = LabelEncoder()\n",
    "df['Outlet'] = le.fit_transform(df['Outlet_Identifier'])"
   ]
  },
  {
   "cell_type": "code",
   "execution_count": 7,
   "id": "b2b24d41",
   "metadata": {},
   "outputs": [],
   "source": [
    "df = pd.get_dummies(df, columns=['Item_Fat_Content', 'Outlet_Location_Type', 'Outlet_Type'])"
   ]
  },
  {
   "cell_type": "code",
   "execution_count": 8,
   "id": "3ac93f7b",
   "metadata": {},
   "outputs": [],
   "source": [
    "scaler = MinMaxScaler()\n",
    "df[['Item_Weight', 'Item_Visibility', 'Item_MRP', 'Outlet_Establishment_Year']] = scaler.fit_transform(df[['Item_Weight', 'Item_Visibility', 'Item_MRP', 'Outlet_Establishment_Year']])"
   ]
  },
  {
   "cell_type": "code",
   "execution_count": 9,
   "id": "548bb74e",
   "metadata": {},
   "outputs": [],
   "source": [
    "# Convert categorical variables to numerical values using one-hot encoding\n",
    "data = pd.get_dummies(data, columns=['Item_Identifier', 'Item_Fat_Content', 'Item_Type', 'Outlet_Identifier', 'Outlet_Size', 'Outlet_Location_Type', 'Outlet_Type'])"
   ]
  },
  {
   "cell_type": "code",
   "execution_count": 10,
   "id": "680258c2",
   "metadata": {},
   "outputs": [],
   "source": [
    "# Split the data into input and output variables\n",
    "X = data.drop(['Item_Outlet_Sales'], axis=1).values.astype('float32')\n",
    "y = data['Item_Outlet_Sales'].values.astype('float32')"
   ]
  },
  {
   "cell_type": "code",
   "execution_count": 11,
   "id": "4d4edb17",
   "metadata": {},
   "outputs": [],
   "source": [
    "# Split the data into training and testing sets\n",
    "X_train, X_test, y_train, y_test = train_test_split(X, y, test_size=0.2, random_state=42)"
   ]
  },
  {
   "cell_type": "code",
   "execution_count": 12,
   "id": "27fc8cab",
   "metadata": {},
   "outputs": [],
   "source": [
    "# Define the model architecture\n",
    "model = tf.keras.Sequential([\n",
    "    tf.keras.layers.Dense(64, activation='relu', input_shape=(X_train.shape[1],)),\n",
    "    tf.keras.layers.Dense(32, activation='relu'),\n",
    "    tf.keras.layers.Dense(1)\n",
    "])"
   ]
  },
  {
   "cell_type": "code",
   "execution_count": 13,
   "id": "0c9bbd06",
   "metadata": {},
   "outputs": [],
   "source": [
    "# Compile the model with an appropriate loss function and optimizer\n",
    "model.compile(loss='mse', optimizer='adam')"
   ]
  },
  {
   "cell_type": "code",
   "execution_count": 14,
   "id": "edc98639",
   "metadata": {},
   "outputs": [
    {
     "name": "stdout",
     "output_type": "stream",
     "text": [
      "Epoch 1/50\n",
      "1/1 [==============================] - 3s 3s/step - loss: 5547942.0000 - val_loss: 283770.4062\n",
      "Epoch 2/50\n",
      "1/1 [==============================] - 0s 121ms/step - loss: 5322399.5000 - val_loss: 233634.7188\n",
      "Epoch 3/50\n",
      "1/1 [==============================] - 0s 90ms/step - loss: 5106345.5000 - val_loss: 188464.0312\n",
      "Epoch 4/50\n",
      "1/1 [==============================] - 0s 90ms/step - loss: 4908334.0000 - val_loss: 149049.7656\n",
      "Epoch 5/50\n",
      "1/1 [==============================] - 0s 90ms/step - loss: 4731400.0000 - val_loss: 118732.6094\n",
      "Epoch 6/50\n",
      "1/1 [==============================] - 0s 100ms/step - loss: 4574994.0000 - val_loss: 93872.6172\n",
      "Epoch 7/50\n",
      "1/1 [==============================] - 0s 91ms/step - loss: 4433296.0000 - val_loss: 71841.4688\n",
      "Epoch 8/50\n",
      "1/1 [==============================] - 0s 80ms/step - loss: 4296653.0000 - val_loss: 52889.6406\n",
      "Epoch 9/50\n",
      "1/1 [==============================] - 0s 88ms/step - loss: 4167586.5000 - val_loss: 36827.9336\n",
      "Epoch 10/50\n",
      "1/1 [==============================] - 0s 255ms/step - loss: 4042746.7500 - val_loss: 23683.1797\n",
      "Epoch 11/50\n",
      "1/1 [==============================] - 0s 105ms/step - loss: 3921506.0000 - val_loss: 13749.2305\n",
      "Epoch 12/50\n",
      "1/1 [==============================] - 0s 84ms/step - loss: 3803296.0000 - val_loss: 6512.7188\n",
      "Epoch 13/50\n",
      "1/1 [==============================] - 0s 84ms/step - loss: 3687610.0000 - val_loss: 1942.7870\n",
      "Epoch 14/50\n",
      "1/1 [==============================] - 0s 95ms/step - loss: 3574467.0000 - val_loss: 54.6105\n",
      "Epoch 15/50\n",
      "1/1 [==============================] - 0s 89ms/step - loss: 3463899.2500 - val_loss: 861.7561\n",
      "Epoch 16/50\n",
      "1/1 [==============================] - 0s 90ms/step - loss: 3359700.0000 - val_loss: 4353.5352\n",
      "Epoch 17/50\n",
      "1/1 [==============================] - 0s 88ms/step - loss: 3260676.7500 - val_loss: 10285.5049\n",
      "Epoch 18/50\n",
      "1/1 [==============================] - 0s 95ms/step - loss: 3164839.5000 - val_loss: 18198.7734\n",
      "Epoch 19/50\n",
      "1/1 [==============================] - 0s 95ms/step - loss: 3070000.7500 - val_loss: 28945.2773\n",
      "Epoch 20/50\n",
      "1/1 [==============================] - 0s 97ms/step - loss: 2976483.5000 - val_loss: 42299.2617\n",
      "Epoch 21/50\n",
      "1/1 [==============================] - 0s 107ms/step - loss: 2884750.5000 - val_loss: 58305.8008\n",
      "Epoch 22/50\n",
      "1/1 [==============================] - 0s 95ms/step - loss: 2795074.7500 - val_loss: 76979.6641\n",
      "Epoch 23/50\n",
      "1/1 [==============================] - 0s 87ms/step - loss: 2708799.7500 - val_loss: 98345.2891\n",
      "Epoch 24/50\n",
      "1/1 [==============================] - 0s 98ms/step - loss: 2624709.2500 - val_loss: 122422.1250\n",
      "Epoch 25/50\n",
      "1/1 [==============================] - 0s 99ms/step - loss: 2543044.7500 - val_loss: 149207.2656\n",
      "Epoch 26/50\n",
      "1/1 [==============================] - 0s 92ms/step - loss: 2464024.7500 - val_loss: 178705.7500\n",
      "Epoch 27/50\n",
      "1/1 [==============================] - 0s 93ms/step - loss: 2387397.5000 - val_loss: 210095.6719\n",
      "Epoch 28/50\n",
      "1/1 [==============================] - 0s 89ms/step - loss: 2313289.0000 - val_loss: 243034.6094\n",
      "Epoch 29/50\n",
      "1/1 [==============================] - 0s 89ms/step - loss: 2242696.0000 - val_loss: 278045.7188\n",
      "Epoch 30/50\n",
      "1/1 [==============================] - 0s 97ms/step - loss: 2175950.0000 - val_loss: 315482.0000\n",
      "Epoch 31/50\n",
      "1/1 [==============================] - 0s 100ms/step - loss: 2111860.5000 - val_loss: 355323.4688\n",
      "Epoch 32/50\n",
      "1/1 [==============================] - 0s 90ms/step - loss: 2050665.8750 - val_loss: 397544.1875\n",
      "Epoch 33/50\n",
      "1/1 [==============================] - 0s 101ms/step - loss: 1992119.2500 - val_loss: 442045.3750\n",
      "Epoch 34/50\n",
      "1/1 [==============================] - 0s 97ms/step - loss: 1936078.3750 - val_loss: 488790.1875\n",
      "Epoch 35/50\n",
      "1/1 [==============================] - 0s 110ms/step - loss: 1882590.1250 - val_loss: 537749.1250\n",
      "Epoch 36/50\n",
      "1/1 [==============================] - 0s 91ms/step - loss: 1831695.5000 - val_loss: 588817.2500\n",
      "Epoch 37/50\n",
      "1/1 [==============================] - 0s 82ms/step - loss: 1783422.7500 - val_loss: 641654.3125\n",
      "Epoch 38/50\n",
      "1/1 [==============================] - 0s 90ms/step - loss: 1737778.0000 - val_loss: 696113.6875\n",
      "Epoch 39/50\n",
      "1/1 [==============================] - 0s 243ms/step - loss: 1694772.6250 - val_loss: 752035.2500\n",
      "Epoch 40/50\n",
      "1/1 [==============================] - 0s 99ms/step - loss: 1654510.7500 - val_loss: 810357.6250\n",
      "Epoch 41/50\n",
      "1/1 [==============================] - 0s 90ms/step - loss: 1616932.5000 - val_loss: 870733.5625\n",
      "Epoch 42/50\n",
      "1/1 [==============================] - 0s 83ms/step - loss: 1581965.7500 - val_loss: 932885.6250\n",
      "Epoch 43/50\n",
      "1/1 [==============================] - 0s 99ms/step - loss: 1549656.7500 - val_loss: 995607.5000\n",
      "Epoch 44/50\n",
      "1/1 [==============================] - 0s 120ms/step - loss: 1520000.8750 - val_loss: 1058680.7500\n",
      "Epoch 45/50\n",
      "1/1 [==============================] - 0s 104ms/step - loss: 1492895.5000 - val_loss: 1122682.0000\n",
      "Epoch 46/50\n",
      "1/1 [==============================] - 0s 81ms/step - loss: 1468318.0000 - val_loss: 1187285.8750\n",
      "Epoch 47/50\n",
      "1/1 [==============================] - 0s 88ms/step - loss: 1446172.7500 - val_loss: 1252142.3750\n",
      "Epoch 48/50\n",
      "1/1 [==============================] - 0s 105ms/step - loss: 1426382.2500 - val_loss: 1316881.2500\n",
      "Epoch 49/50\n",
      "1/1 [==============================] - 0s 100ms/step - loss: 1408850.3750 - val_loss: 1381108.1250\n",
      "Epoch 50/50\n",
      "1/1 [==============================] - 0s 85ms/step - loss: 1393423.0000 - val_loss: 1443217.3750\n"
     ]
    }
   ],
   "source": [
    "# Train the model on the training data and evaluate it on the validation data\n",
    "history = model.fit(X_train, y_train, epochs=50, batch_size=32, validation_data=(X_test, y_test))"
   ]
  },
  {
   "cell_type": "code",
   "execution_count": 15,
   "id": "1b3fdf6c",
   "metadata": {},
   "outputs": [
    {
     "name": "stdout",
     "output_type": "stream",
     "text": [
      "1/1 [==============================] - 0s 65ms/step - loss: 1443217.3750\n",
      "Test loss: 1443217.375\n"
     ]
    }
   ],
   "source": [
    "# Evaluate the model\n",
    "test_loss = model.evaluate(X_test, y_test)\n",
    "print('Test loss:', test_loss)"
   ]
  },
  {
   "cell_type": "code",
   "execution_count": 16,
   "id": "82a8ac62",
   "metadata": {},
   "outputs": [
    {
     "name": "stdout",
     "output_type": "stream",
     "text": [
      "1/1 [==============================] - 0s 220ms/step\n"
     ]
    },
    {
     "data": {
      "text/plain": [
       "array([[1732.8224],\n",
       "       [1644.7628],\n",
       "       [1681.4857],\n",
       "       [1698.7094],\n",
       "       [1630.3704]], dtype=float32)"
      ]
     },
     "execution_count": 16,
     "metadata": {},
     "output_type": "execute_result"
    }
   ],
   "source": [
    "#to predict the sales pof the items of the bigmart\n",
    "model.predict(data.drop(['Item_Outlet_Sales'], axis=1).values.astype('float32'))"
   ]
  }
 ],
 "metadata": {
  "kernelspec": {
   "display_name": "Python 3",
   "language": "python",
   "name": "python3"
  },
  "language_info": {
   "codemirror_mode": {
    "name": "ipython",
    "version": 3
   },
   "file_extension": ".py",
   "mimetype": "text/x-python",
   "name": "python",
   "nbconvert_exporter": "python",
   "pygments_lexer": "ipython3",
   "version": "3.8.10"
  },
  "vscode": {
   "interpreter": {
    "hash": "fea989aaa876156c08a300e4d0cc50ce1bf9c85d1e4a173354466ed51b467780"
   }
  }
 },
 "nbformat": 4,
 "nbformat_minor": 5
}
